{
 "cells": [
  {
   "cell_type": "code",
   "execution_count": 1,
   "metadata": {
    "collapsed": true
   },
   "outputs": [],
   "source": [
    "from ctypes import cdll, c_int"
   ]
  },
  {
   "cell_type": "code",
   "execution_count": 6,
   "metadata": {
    "collapsed": false
   },
   "outputs": [],
   "source": [
    "lib = \"/Program Files/Code Laboratories/CL-Eye Driver/Driver/CLEyeDevices.dll\"\n",
    "\n",
    "# dll=cdll.LoadLibrary(lib)\n",
    "# dll.CLEyeGetCameraCount()"
   ]
  },
  {
   "cell_type": "code",
   "execution_count": 12,
   "metadata": {
    "collapsed": false
   },
   "outputs": [
    {
     "name": "stdout",
     "output_type": "stream",
     "text": [
      "<CDLL 'C:\\Program Files (x86)\\Code Laboratories\\CL-Eye Driver\\Driver\\CLEyeDevices.dll', handle 10000000 at 6372710>\n"
     ]
    }
   ],
   "source": [
    "lib = \"C:\\Program Files (x86)\\Code Laboratories\\CL-Eye Driver\\Driver\\CLEyeDevices.dll\"\n",
    "dll=cdll.LoadLibrary(lib)\n",
    "print dll"
   ]
  },
  {
   "cell_type": "code",
   "execution_count": null,
   "metadata": {
    "collapsed": true
   },
   "outputs": [],
   "source": [
    "from ctypes import *\n",
    "libc."
   ]
  }
 ],
 "metadata": {
  "kernelspec": {
   "display_name": "Python 2",
   "language": "python",
   "name": "python2"
  },
  "language_info": {
   "codemirror_mode": {
    "name": "ipython",
    "version": 2
   },
   "file_extension": ".py",
   "mimetype": "text/x-python",
   "name": "python",
   "nbconvert_exporter": "python",
   "pygments_lexer": "ipython2",
   "version": "2.7.13"
  }
 },
 "nbformat": 4,
 "nbformat_minor": 2
}
